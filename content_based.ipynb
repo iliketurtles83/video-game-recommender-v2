{
 "cells": [
  {
   "attachments": {},
   "cell_type": "markdown",
   "metadata": {},
   "source": [
    "## Content-Based Filtering of Game Metadata\n",
    "## Based on TheGamesDB"
   ]
  },
  {
   "cell_type": "code",
   "execution_count": 1,
   "metadata": {},
   "outputs": [],
   "source": [
    "import pandas as pd"
   ]
  },
  {
   "attachments": {},
   "cell_type": "markdown",
   "metadata": {},
   "source": [
    "### Theres is also a DOS games database but not very big"
   ]
  },
  {
   "cell_type": "code",
   "execution_count": 3,
   "metadata": {},
   "outputs": [],
   "source": [
    "dos_database = pd.read_excel('dos_database.xlsx')"
   ]
  },
  {
   "cell_type": "code",
   "execution_count": 5,
   "metadata": {},
   "outputs": [
    {
     "data": {
      "text/html": [
       "<div>\n",
       "<style scoped>\n",
       "    .dataframe tbody tr th:only-of-type {\n",
       "        vertical-align: middle;\n",
       "    }\n",
       "\n",
       "    .dataframe tbody tr th {\n",
       "        vertical-align: top;\n",
       "    }\n",
       "\n",
       "    .dataframe thead th {\n",
       "        text-align: right;\n",
       "    }\n",
       "</style>\n",
       "<table border=\"1\" class=\"dataframe\">\n",
       "  <thead>\n",
       "    <tr style=\"text-align: right;\">\n",
       "      <th></th>\n",
       "      <th>gametitle_mame</th>\n",
       "      <th>developer_mame</th>\n",
       "      <th>year_mame</th>\n",
       "      <th>genre_mame</th>\n",
       "      <th>description_mame</th>\n",
       "      <th>publisher_mame</th>\n",
       "    </tr>\n",
       "  </thead>\n",
       "  <tbody>\n",
       "    <tr>\n",
       "      <th>7477</th>\n",
       "      <td>Zyconix</td>\n",
       "      <td>Miracle Games</td>\n",
       "      <td>19920101T000000</td>\n",
       "      <td>Puzzle,Strategy</td>\n",
       "      <td>Zyconix is an arcade puzzle game.\\n\\nColored b...</td>\n",
       "      <td>Accolade, Inc.</td>\n",
       "    </tr>\n",
       "    <tr>\n",
       "      <th>7478</th>\n",
       "      <td>Zyll</td>\n",
       "      <td>IBM</td>\n",
       "      <td>19840101T000000</td>\n",
       "      <td>Adventure,Interactive Fiction,Role-Playing,Tex...</td>\n",
       "      <td>A completely unique concept--a real-time, 1 or...</td>\n",
       "      <td>IBM</td>\n",
       "    </tr>\n",
       "    <tr>\n",
       "      <th>7479</th>\n",
       "      <td>ZZT</td>\n",
       "      <td>Epic MegaGames, Inc.</td>\n",
       "      <td>19910101T000000</td>\n",
       "      <td>Action,Role-Playing,Text-Based</td>\n",
       "      <td>A text-mode adventure game in the style of Rog...</td>\n",
       "      <td>Epic MegaGames, Inc.</td>\n",
       "    </tr>\n",
       "    <tr>\n",
       "      <th>7480</th>\n",
       "      <td>ZZT's City</td>\n",
       "      <td>Softdisk Publishing</td>\n",
       "      <td>19910101T000000</td>\n",
       "      <td>Action,Role-Playing,Text-Based</td>\n",
       "      <td>Ah, life in the big city.  Everyone said it wo...</td>\n",
       "      <td>Softdisk Publishing</td>\n",
       "    </tr>\n",
       "    <tr>\n",
       "      <th>7481</th>\n",
       "      <td>ZZT's Revenge!</td>\n",
       "      <td>Epic MegaGames, Inc.</td>\n",
       "      <td>19920101T000000</td>\n",
       "      <td>Action,Role-Playing,Text-Based</td>\n",
       "      <td>Shortly after the release of ZZT, Sweeney star...</td>\n",
       "      <td>Epic MegaGames, Inc.</td>\n",
       "    </tr>\n",
       "  </tbody>\n",
       "</table>\n",
       "</div>"
      ],
      "text/plain": [
       "      gametitle_mame        developer_mame        year_mame  \\\n",
       "7477         Zyconix         Miracle Games  19920101T000000   \n",
       "7478            Zyll                   IBM  19840101T000000   \n",
       "7479             ZZT  Epic MegaGames, Inc.  19910101T000000   \n",
       "7480      ZZT's City   Softdisk Publishing  19910101T000000   \n",
       "7481  ZZT's Revenge!  Epic MegaGames, Inc.  19920101T000000   \n",
       "\n",
       "                                             genre_mame  \\\n",
       "7477                                    Puzzle,Strategy   \n",
       "7478  Adventure,Interactive Fiction,Role-Playing,Tex...   \n",
       "7479                     Action,Role-Playing,Text-Based   \n",
       "7480                     Action,Role-Playing,Text-Based   \n",
       "7481                     Action,Role-Playing,Text-Based   \n",
       "\n",
       "                                       description_mame        publisher_mame  \n",
       "7477  Zyconix is an arcade puzzle game.\\n\\nColored b...        Accolade, Inc.  \n",
       "7478  A completely unique concept--a real-time, 1 or...                   IBM  \n",
       "7479  A text-mode adventure game in the style of Rog...  Epic MegaGames, Inc.  \n",
       "7480  Ah, life in the big city.  Everyone said it wo...   Softdisk Publishing  \n",
       "7481  Shortly after the release of ZZT, Sweeney star...  Epic MegaGames, Inc.  "
      ]
     },
     "execution_count": 5,
     "metadata": {},
     "output_type": "execute_result"
    }
   ],
   "source": [
    "dos_database.tail()"
   ]
  },
  {
   "cell_type": "code",
   "execution_count": 7,
   "metadata": {},
   "outputs": [
    {
     "data": {
      "text/plain": [
       "12"
      ]
     },
     "execution_count": 7,
     "metadata": {},
     "output_type": "execute_result"
    }
   ],
   "source": [
    "dos_database['description_mame'].isna().sum()"
   ]
  },
  {
   "attachments": {},
   "cell_type": "markdown",
   "metadata": {},
   "source": [
    "### Also some other game dataset that is not as cool as the one that follows"
   ]
  },
  {
   "cell_type": "code",
   "execution_count": 2,
   "metadata": {},
   "outputs": [],
   "source": [
    "gamelist = pd.read_excel('gamelist.xlsx')"
   ]
  },
  {
   "attachments": {},
   "cell_type": "markdown",
   "metadata": {},
   "source": [
    "### EDA and Data Cleaning"
   ]
  },
  {
   "cell_type": "code",
   "execution_count": 3,
   "metadata": {},
   "outputs": [],
   "source": [
    "# mdb file was split into 3 files due to MS Acces export limitations\n",
    "Game = pd.read_excel('Game.xlsx')\n",
    "Game1 = pd.read_excel('Game1.xlsx')\n",
    "Game3 = pd.read_excel('Game3.xlsx')"
   ]
  },
  {
   "cell_type": "code",
   "execution_count": 4,
   "metadata": {},
   "outputs": [],
   "source": [
    "# combine all the dataframes into one\n",
    "Game = pd.concat([Game, Game1, Game3], ignore_index=True)"
   ]
  },
  {
   "cell_type": "code",
   "execution_count": 5,
   "metadata": {},
   "outputs": [
    {
     "data": {
      "text/html": [
       "<div>\n",
       "<style scoped>\n",
       "    .dataframe tbody tr th:only-of-type {\n",
       "        vertical-align: middle;\n",
       "    }\n",
       "\n",
       "    .dataframe tbody tr th {\n",
       "        vertical-align: top;\n",
       "    }\n",
       "\n",
       "    .dataframe thead th {\n",
       "        text-align: right;\n",
       "    }\n",
       "</style>\n",
       "<table border=\"1\" class=\"dataframe\">\n",
       "  <thead>\n",
       "    <tr style=\"text-align: right;\">\n",
       "      <th></th>\n",
       "      <th>Name</th>\n",
       "      <th>ReleaseYear</th>\n",
       "      <th>Overview</th>\n",
       "      <th>MaxPlayers</th>\n",
       "      <th>ReleaseType</th>\n",
       "      <th>Cooperative</th>\n",
       "      <th>VideoURL</th>\n",
       "      <th>CommunityRating</th>\n",
       "      <th>Platform</th>\n",
       "      <th>ESRB</th>\n",
       "      <th>...</th>\n",
       "      <th>AlternateName_China</th>\n",
       "      <th>AlternateName_Europe</th>\n",
       "      <th>AlternateName_France</th>\n",
       "      <th>AlternateName_Germany</th>\n",
       "      <th>AlternateName_Japan</th>\n",
       "      <th>AlternateName_Korea</th>\n",
       "      <th>AlternateName_NorthAmerica</th>\n",
       "      <th>AlternateName_Spain</th>\n",
       "      <th>AlternateName_UnitedStates</th>\n",
       "      <th>AlternateName_World</th>\n",
       "    </tr>\n",
       "  </thead>\n",
       "  <tbody>\n",
       "    <tr>\n",
       "      <th>0</th>\n",
       "      <td>Shiren Monsters: Netsal</td>\n",
       "      <td>NaN</td>\n",
       "      <td>Netsal is a Sports game, published by ChunSoft...</td>\n",
       "      <td>1.0</td>\n",
       "      <td>Released</td>\n",
       "      <td>False</td>\n",
       "      <td>NaN</td>\n",
       "      <td>2.166667</td>\n",
       "      <td>Nintendo Game Boy Advance</td>\n",
       "      <td>Not Rated</td>\n",
       "      <td>...</td>\n",
       "      <td>NaN</td>\n",
       "      <td>NaN</td>\n",
       "      <td>NaN</td>\n",
       "      <td>NaN</td>\n",
       "      <td>NaN</td>\n",
       "      <td>NaN</td>\n",
       "      <td>NaN</td>\n",
       "      <td>NaN</td>\n",
       "      <td>NaN</td>\n",
       "      <td>NaN</td>\n",
       "    </tr>\n",
       "    <tr>\n",
       "      <th>1</th>\n",
       "      <td>Shonen Jump's One Piece</td>\n",
       "      <td>NaN</td>\n",
       "      <td>You can try to grab the greatest treasure of t...</td>\n",
       "      <td>NaN</td>\n",
       "      <td>Released</td>\n",
       "      <td>False</td>\n",
       "      <td>NaN</td>\n",
       "      <td>4.153846</td>\n",
       "      <td>Nintendo Game Boy Advance</td>\n",
       "      <td>E - Everyone</td>\n",
       "      <td>...</td>\n",
       "      <td>NaN</td>\n",
       "      <td>NaN</td>\n",
       "      <td>NaN</td>\n",
       "      <td>NaN</td>\n",
       "      <td>NaN</td>\n",
       "      <td>NaN</td>\n",
       "      <td>NaN</td>\n",
       "      <td>NaN</td>\n",
       "      <td>NaN</td>\n",
       "      <td>NaN</td>\n",
       "    </tr>\n",
       "    <tr>\n",
       "      <th>2</th>\n",
       "      <td>Shonen Jump's Shaman King: Legacy of the Spiri...</td>\n",
       "      <td>NaN</td>\n",
       "      <td>Assume the role of Yoh Asakura in the ultimate...</td>\n",
       "      <td>1.0</td>\n",
       "      <td>Released</td>\n",
       "      <td>False</td>\n",
       "      <td>https://www.youtube.com/watch?v=Th323uP886Y</td>\n",
       "      <td>3.428571</td>\n",
       "      <td>Nintendo Game Boy Advance</td>\n",
       "      <td>E - Everyone</td>\n",
       "      <td>...</td>\n",
       "      <td>NaN</td>\n",
       "      <td>NaN</td>\n",
       "      <td>NaN</td>\n",
       "      <td>NaN</td>\n",
       "      <td>NaN</td>\n",
       "      <td>NaN</td>\n",
       "      <td>NaN</td>\n",
       "      <td>NaN</td>\n",
       "      <td>NaN</td>\n",
       "      <td>NaN</td>\n",
       "    </tr>\n",
       "    <tr>\n",
       "      <th>3</th>\n",
       "      <td>Shonen Jump's Shaman King: Legacy of the Spiri...</td>\n",
       "      <td>NaN</td>\n",
       "      <td>Assume the role of Yoh Asakura in the ultimate...</td>\n",
       "      <td>1.0</td>\n",
       "      <td>Released</td>\n",
       "      <td>False</td>\n",
       "      <td>https://www.youtube.com/watch?v=tjY9-A-eGzE</td>\n",
       "      <td>4.029412</td>\n",
       "      <td>Nintendo Game Boy Advance</td>\n",
       "      <td>E - Everyone</td>\n",
       "      <td>...</td>\n",
       "      <td>NaN</td>\n",
       "      <td>NaN</td>\n",
       "      <td>NaN</td>\n",
       "      <td>NaN</td>\n",
       "      <td>NaN</td>\n",
       "      <td>NaN</td>\n",
       "      <td>NaN</td>\n",
       "      <td>NaN</td>\n",
       "      <td>NaN</td>\n",
       "      <td>NaN</td>\n",
       "    </tr>\n",
       "    <tr>\n",
       "      <th>4</th>\n",
       "      <td>Shonen Jump's Shaman King: Master of Spirits</td>\n",
       "      <td>NaN</td>\n",
       "      <td>In this game you play Yoh Asakura from the Sha...</td>\n",
       "      <td>1.0</td>\n",
       "      <td>Released</td>\n",
       "      <td>False</td>\n",
       "      <td>https://www.youtube.com/watch?v=GbrAXjtTiLo</td>\n",
       "      <td>3.625000</td>\n",
       "      <td>Nintendo Game Boy Advance</td>\n",
       "      <td>E - Everyone</td>\n",
       "      <td>...</td>\n",
       "      <td>NaN</td>\n",
       "      <td>NaN</td>\n",
       "      <td>NaN</td>\n",
       "      <td>NaN</td>\n",
       "      <td>NaN</td>\n",
       "      <td>NaN</td>\n",
       "      <td>NaN</td>\n",
       "      <td>NaN</td>\n",
       "      <td>NaN</td>\n",
       "      <td>NaN</td>\n",
       "    </tr>\n",
       "  </tbody>\n",
       "</table>\n",
       "<p>5 rows × 29 columns</p>\n",
       "</div>"
      ],
      "text/plain": [
       "                                                Name  ReleaseYear  \\\n",
       "0                            Shiren Monsters: Netsal          NaN   \n",
       "1                            Shonen Jump's One Piece          NaN   \n",
       "2  Shonen Jump's Shaman King: Legacy of the Spiri...          NaN   \n",
       "3  Shonen Jump's Shaman King: Legacy of the Spiri...          NaN   \n",
       "4       Shonen Jump's Shaman King: Master of Spirits          NaN   \n",
       "\n",
       "                                            Overview  MaxPlayers ReleaseType  \\\n",
       "0  Netsal is a Sports game, published by ChunSoft...         1.0    Released   \n",
       "1  You can try to grab the greatest treasure of t...         NaN    Released   \n",
       "2  Assume the role of Yoh Asakura in the ultimate...         1.0    Released   \n",
       "3  Assume the role of Yoh Asakura in the ultimate...         1.0    Released   \n",
       "4  In this game you play Yoh Asakura from the Sha...         1.0    Released   \n",
       "\n",
       "   Cooperative                                     VideoURL  CommunityRating  \\\n",
       "0        False                                          NaN         2.166667   \n",
       "1        False                                          NaN         4.153846   \n",
       "2        False  https://www.youtube.com/watch?v=Th323uP886Y         3.428571   \n",
       "3        False  https://www.youtube.com/watch?v=tjY9-A-eGzE         4.029412   \n",
       "4        False  https://www.youtube.com/watch?v=GbrAXjtTiLo         3.625000   \n",
       "\n",
       "                    Platform          ESRB  ...  AlternateName_China  \\\n",
       "0  Nintendo Game Boy Advance     Not Rated  ...                  NaN   \n",
       "1  Nintendo Game Boy Advance  E - Everyone  ...                  NaN   \n",
       "2  Nintendo Game Boy Advance  E - Everyone  ...                  NaN   \n",
       "3  Nintendo Game Boy Advance  E - Everyone  ...                  NaN   \n",
       "4  Nintendo Game Boy Advance  E - Everyone  ...                  NaN   \n",
       "\n",
       "  AlternateName_Europe AlternateName_France AlternateName_Germany  \\\n",
       "0                  NaN                  NaN                   NaN   \n",
       "1                  NaN                  NaN                   NaN   \n",
       "2                  NaN                  NaN                   NaN   \n",
       "3                  NaN                  NaN                   NaN   \n",
       "4                  NaN                  NaN                   NaN   \n",
       "\n",
       "   AlternateName_Japan  AlternateName_Korea AlternateName_NorthAmerica  \\\n",
       "0                  NaN                  NaN                        NaN   \n",
       "1                  NaN                  NaN                        NaN   \n",
       "2                  NaN                  NaN                        NaN   \n",
       "3                  NaN                  NaN                        NaN   \n",
       "4                  NaN                  NaN                        NaN   \n",
       "\n",
       "  AlternateName_Spain AlternateName_UnitedStates  AlternateName_World  \n",
       "0                 NaN                        NaN                  NaN  \n",
       "1                 NaN                        NaN                  NaN  \n",
       "2                 NaN                        NaN                  NaN  \n",
       "3                 NaN                        NaN                  NaN  \n",
       "4                 NaN                        NaN                  NaN  \n",
       "\n",
       "[5 rows x 29 columns]"
      ]
     },
     "execution_count": 5,
     "metadata": {},
     "output_type": "execute_result"
    }
   ],
   "source": [
    "Game.head()"
   ]
  },
  {
   "cell_type": "code",
   "execution_count": 6,
   "metadata": {},
   "outputs": [
    {
     "data": {
      "text/plain": [
       "Index(['Name', 'ReleaseYear', 'Overview', 'MaxPlayers', 'ReleaseType',\n",
       "       'Cooperative', 'VideoURL', 'CommunityRating', 'Platform', 'ESRB',\n",
       "       'CommunityRatingCount', 'Genres', 'Developer', 'Publisher', 'N°',\n",
       "       'DatabaseID', 'WikipediaURL', 'AlternateName_Australia',\n",
       "       'AlternateName_Brazil', 'AlternateName_China', 'AlternateName_Europe',\n",
       "       'AlternateName_France', 'AlternateName_Germany', 'AlternateName_Japan',\n",
       "       'AlternateName_Korea', 'AlternateName_NorthAmerica',\n",
       "       'AlternateName_Spain', 'AlternateName_UnitedStates',\n",
       "       'AlternateName_World'],\n",
       "      dtype='object')"
      ]
     },
     "execution_count": 6,
     "metadata": {},
     "output_type": "execute_result"
    }
   ],
   "source": [
    "Game.columns"
   ]
  },
  {
   "cell_type": "code",
   "execution_count": 37,
   "metadata": {},
   "outputs": [],
   "source": [
    "games_df = Game[['Name', 'Overview', 'Cooperative', 'Platform', 'Genres', 'Developer', 'Publisher']]"
   ]
  },
  {
   "cell_type": "code",
   "execution_count": 38,
   "metadata": {},
   "outputs": [],
   "source": [
    "# drop where no overview is available\n",
    "games_df = games_df.dropna(subset=['Overview'])"
   ]
  },
  {
   "cell_type": "code",
   "execution_count": 39,
   "metadata": {},
   "outputs": [
    {
     "data": {
      "text/plain": [
       "214097"
      ]
     },
     "execution_count": 39,
     "metadata": {},
     "output_type": "execute_result"
    }
   ],
   "source": [
    "len(games_df)"
   ]
  },
  {
   "cell_type": "code",
   "execution_count": 40,
   "metadata": {},
   "outputs": [
    {
     "data": {
      "text/plain": [
       "Name               0\n",
       "Overview           0\n",
       "Cooperative        0\n",
       "Platform           0\n",
       "Genres         10513\n",
       "Developer      16604\n",
       "Publisher      16196\n",
       "dtype: int64"
      ]
     },
     "execution_count": 40,
     "metadata": {},
     "output_type": "execute_result"
    }
   ],
   "source": [
    "# show zero values for each column\n",
    "games_df.isna().sum()"
   ]
  },
  {
   "cell_type": "code",
   "execution_count": 41,
   "metadata": {},
   "outputs": [],
   "source": [
    "# for duplicates drop the one where Genres is empty\n",
    "games_df = games_df.drop_duplicates(subset=['Name'], keep='first')"
   ]
  },
  {
   "cell_type": "code",
   "execution_count": 42,
   "metadata": {},
   "outputs": [],
   "source": [
    "# Write developer to publisher if publisher is empty\n",
    "games_df['Publisher'] = games_df['Publisher'].fillna(games_df['Developer'])"
   ]
  },
  {
   "cell_type": "code",
   "execution_count": 43,
   "metadata": {},
   "outputs": [],
   "source": [
    "games_df['Developer'] = games_df['Developer'].fillna(games_df['Publisher'])"
   ]
  },
  {
   "cell_type": "code",
   "execution_count": 44,
   "metadata": {},
   "outputs": [],
   "source": [
    "games_df['Genres'].fillna('', inplace=True)"
   ]
  },
  {
   "cell_type": "code",
   "execution_count": 45,
   "metadata": {},
   "outputs": [],
   "source": [
    "games_df['Developer'].fillna('', inplace=True)\n",
    "games_df['Publisher'].fillna('', inplace=True)"
   ]
  },
  {
   "attachments": {},
   "cell_type": "markdown",
   "metadata": {},
   "source": [
    "### Data Preprocessing"
   ]
  },
  {
   "cell_type": "code",
   "execution_count": 46,
   "metadata": {},
   "outputs": [],
   "source": [
    "# prepend developer to overview\n",
    "games_df['Overview'] = games_df['Developer'] + ' ' + games_df['Overview']"
   ]
  },
  {
   "cell_type": "code",
   "execution_count": 47,
   "metadata": {},
   "outputs": [],
   "source": [
    "# one-hot encode cooperative\n",
    "CoopDummies = pd.get_dummies(games_df['Cooperative'], prefix='Coop')"
   ]
  },
  {
   "cell_type": "code",
   "execution_count": 48,
   "metadata": {},
   "outputs": [],
   "source": [
    "# add CoopDummies back and drop the original column\n",
    "games_df = pd.concat([games_df, CoopDummies], axis=1)\n",
    "games_df.drop(['Cooperative'], axis=1, inplace=True)"
   ]
  },
  {
   "cell_type": "code",
   "execution_count": 49,
   "metadata": {},
   "outputs": [],
   "source": [
    "# multilabel binarizer\n",
    "from sklearn.preprocessing import MultiLabelBinarizer\n",
    "mlb = MultiLabelBinarizer()"
   ]
  },
  {
   "cell_type": "code",
   "execution_count": 50,
   "metadata": {},
   "outputs": [],
   "source": [
    "# One-hot encode genres that are separated by '; '\n",
    "games_df['Genres'] = games_df['Genres'].str.split('; ')\n",
    "genres_df = pd.DataFrame(mlb.fit_transform(games_df.pop('Genres')), columns=mlb.classes_, index=games_df.index)"
   ]
  },
  {
   "cell_type": "code",
   "execution_count": 51,
   "metadata": {},
   "outputs": [],
   "source": [
    "# join genres_df back to games_df\n",
    "games_df = pd.concat([games_df, genres_df], axis=1)"
   ]
  },
  {
   "cell_type": "code",
   "execution_count": 52,
   "metadata": {},
   "outputs": [],
   "source": [
    "games_df.reset_index(drop=True, inplace=True)"
   ]
  },
  {
   "cell_type": "code",
   "execution_count": 54,
   "metadata": {},
   "outputs": [],
   "source": [
    "# drop '' column\n",
    "games_df.drop([''], axis=1, inplace=True)"
   ]
  },
  {
   "cell_type": "code",
   "execution_count": 53,
   "metadata": {},
   "outputs": [
    {
     "data": {
      "text/plain": [
       "Index(['Name', 'Overview', 'Platform', 'Developer', 'Publisher', 'Coop_False',\n",
       "       'Coop_True', '', 'Action', 'Adventure', 'Beat 'em Up', 'Board Game',\n",
       "       'Casino', 'Construction and Management Simulation', 'Education',\n",
       "       'Fighting', 'Flight Simulator', 'Horror', 'Life Simulation', 'MMO',\n",
       "       'Music', 'Party', 'Platform', 'Puzzle', 'Quiz', 'Racing',\n",
       "       'Role-Playing', 'Sandbox', 'Shooter', 'Sports', 'Stealth', 'Strategy',\n",
       "       'Vehicle Simulation', 'Visual Novel'],\n",
       "      dtype='object')"
      ]
     },
     "execution_count": 53,
     "metadata": {},
     "output_type": "execute_result"
    }
   ],
   "source": [
    "games_df.columns"
   ]
  },
  {
   "cell_type": "code",
   "execution_count": 55,
   "metadata": {},
   "outputs": [
    {
     "name": "stderr",
     "output_type": "stream",
     "text": [
      "[nltk_data] Downloading package wordnet to /home/berry/nltk_data...\n",
      "[nltk_data]   Package wordnet is already up-to-date!\n"
     ]
    }
   ],
   "source": [
    "import nltk\n",
    "nltk.download('wordnet')\n",
    "stopwords = nltk.corpus.stopwords.words('english')"
   ]
  },
  {
   "cell_type": "code",
   "execution_count": 56,
   "metadata": {},
   "outputs": [],
   "source": [
    "# lemmatizer and stemmer. Only use one of them\n",
    "# porter = PorterStemmer()\n",
    "from nltk.tokenize import word_tokenize\n",
    "from nltk.stem import WordNetLemmatizer\n",
    "lemmatizer = WordNetLemmatizer()\n",
    "import string"
   ]
  },
  {
   "cell_type": "code",
   "execution_count": 69,
   "metadata": {},
   "outputs": [],
   "source": [
    "# function to clean text\n",
    "def clean_text(text):\n",
    "    # remove hex\n",
    "    # text = re.sub(r'[^\\x00-\\x7f]',r'', text)\n",
    "    # hyphens to space\n",
    "    text = text.replace('-', ' ')\n",
    "    # remove punctuation\n",
    "    text = text.translate(str.maketrans('', '', string.punctuation))\n",
    "    # remove numbers\n",
    "    # text = text.translate(str.maketrans('', '', string.digits))\n",
    "    # make lowercase\n",
    "    text = text.lower()\n",
    "    # tokenize text\n",
    "    tokens = word_tokenize(text)\n",
    "    # remove stopwords\n",
    "    tokens = [w for w in tokens if w not in stopwords]\n",
    "    # lemmatize words\n",
    "    tokens = [lemmatizer.lemmatize(w) for w in tokens]\n",
    "    # stem words\n",
    "    # tokens = [porter.stem(w) for w in tokens]\n",
    "    # make tokens into string\n",
    "    # text = ' '.join(tokens)\n",
    "    # return clean text\n",
    "    return tokens"
   ]
  },
  {
   "cell_type": "code",
   "execution_count": 70,
   "metadata": {},
   "outputs": [],
   "source": [
    "# apply clean_text function to description column\n",
    "games_df['Overview_clean'] = games_df['Overview'].apply(clean_text)"
   ]
  },
  {
   "cell_type": "code",
   "execution_count": 71,
   "metadata": {},
   "outputs": [],
   "source": [
    "game_tags = games_df.drop(columns=['Name', 'Overview', 'Platform', 'Developer', 'Publisher', 'Overview_clean'])"
   ]
  },
  {
   "attachments": {},
   "cell_type": "markdown",
   "metadata": {},
   "source": [
    "### CountVectorizer"
   ]
  },
  {
   "cell_type": "code",
   "execution_count": 183,
   "metadata": {},
   "outputs": [],
   "source": [
    "import numpy as np\n",
    "from sklearn.feature_extraction.text import CountVectorizer"
   ]
  },
  {
   "cell_type": "code",
   "execution_count": 184,
   "metadata": {},
   "outputs": [],
   "source": [
    "countvec = CountVectorizer(max_features=1000, min_df=5, ngram_range=(1, 2))\n",
    "cv_matrix = countvec.fit_transform(games_df['Overview_clean'])"
   ]
  },
  {
   "cell_type": "code",
   "execution_count": 185,
   "metadata": {},
   "outputs": [],
   "source": [
    "matrix = np.concatenate((cv_matrix.toarray(), game_tags.values), axis=1)"
   ]
  },
  {
   "cell_type": "code",
   "execution_count": 186,
   "metadata": {},
   "outputs": [
    {
     "data": {
      "text/plain": [
       "array([[0, 0, 0, ..., 0, 0, 0],\n",
       "       [0, 0, 0, ..., 0, 0, 0],\n",
       "       [0, 0, 0, ..., 0, 0, 0],\n",
       "       ...,\n",
       "       [0, 0, 0, ..., 0, 0, 0],\n",
       "       [0, 0, 0, ..., 0, 0, 0],\n",
       "       [0, 0, 0, ..., 0, 0, 0]])"
      ]
     },
     "execution_count": 186,
     "metadata": {},
     "output_type": "execute_result"
    }
   ],
   "source": [
    "matrix.shape"
   ]
  },
  {
   "attachments": {},
   "cell_type": "markdown",
   "metadata": {},
   "source": [
    "### Dimensionality Reduction Test"
   ]
  },
  {
   "cell_type": "code",
   "execution_count": 201,
   "metadata": {},
   "outputs": [],
   "source": [
    "# reduce dimensionality using locality sensitive hashing\n",
    "from sklearn.random_projection import SparseRandomProjection\n",
    "srp = SparseRandomProjection(n_components=100)\n",
    "matrix = srp.fit_transform(matrix)"
   ]
  },
  {
   "cell_type": "code",
   "execution_count": 203,
   "metadata": {},
   "outputs": [
    {
     "data": {
      "text/plain": [
       "(85964, 100)"
      ]
     },
     "execution_count": 203,
     "metadata": {},
     "output_type": "execute_result"
    }
   ],
   "source": [
    "matrix.shape"
   ]
  },
  {
   "attachments": {},
   "cell_type": "markdown",
   "metadata": {},
   "source": [
    "### Word2Vec"
   ]
  },
  {
   "cell_type": "code",
   "execution_count": 72,
   "metadata": {},
   "outputs": [
    {
     "data": {
      "text/plain": [
       "0        [chunsoft, netsal, sport, game, published, chu...\n",
       "1        [dimps, corporation, try, grab, greatest, trea...\n",
       "2        [kcej, assume, role, yoh, asakura, ultimate, q...\n",
       "3        [kcej, assume, role, yoh, asakura, ultimate, q...\n",
       "4        [kcej, game, play, yoh, asakura, shaman, king,...\n",
       "                               ...                        \n",
       "85959    [robert, dillinger, space, invadersgorf, style...\n",
       "85960    [stuart, smith, player, travel, land, greece, ...\n",
       "85961    [jon, mattson, text, adventure, sequel, dial, ...\n",
       "85962    [gareth, pitchford, designed, small, four, loc...\n",
       "85963    [bimbarlade, upon, time, king, obsessed, hunti...\n",
       "Name: Overview_clean, Length: 85964, dtype: object"
      ]
     },
     "execution_count": 72,
     "metadata": {},
     "output_type": "execute_result"
    }
   ],
   "source": [
    "games_df['Overview_clean']"
   ]
  },
  {
   "cell_type": "code",
   "execution_count": 73,
   "metadata": {},
   "outputs": [],
   "source": [
    "from gensim.models import Word2Vec\n",
    "\n",
    "# overview column to list\n",
    "game_desc_tokens = games_df['Overview_clean'].tolist()\n",
    "\n",
    "\n",
    "# train the model\n",
    "model = Word2Vec(min_count=20, window=5, sample=6e-5, alpha=0.03, min_alpha=0.0007, negative=20)"
   ]
  },
  {
   "cell_type": "code",
   "execution_count": 75,
   "metadata": {},
   "outputs": [],
   "source": [
    "model.build_vocab(game_desc_tokens, progress_per=10000)"
   ]
  },
  {
   "cell_type": "code",
   "execution_count": 76,
   "metadata": {},
   "outputs": [
    {
     "data": {
      "text/plain": [
       "(102542798, 181279230)"
      ]
     },
     "execution_count": 76,
     "metadata": {},
     "output_type": "execute_result"
    }
   ],
   "source": [
    "model.train(game_desc_tokens, total_examples=model.corpus_count, epochs=30, report_delay=1)"
   ]
  },
  {
   "cell_type": "code",
   "execution_count": 77,
   "metadata": {},
   "outputs": [
    {
     "data": {
      "text/plain": [
       "[('bros', 0.7459353804588318),\n",
       " ('luigi', 0.741351306438446),\n",
       " ('marios', 0.6861761808395386),\n",
       " ('bowsers', 0.6475427150726318),\n",
       " ('waluigi', 0.6158074140548706),\n",
       " ('yoshi', 0.6095926761627197),\n",
       " ('kart', 0.6034002900123596),\n",
       " ('bowser', 0.5985233187675476),\n",
       " ('super', 0.5884424448013306),\n",
       " ('smw', 0.5859856009483337)]"
      ]
     },
     "execution_count": 77,
     "metadata": {},
     "output_type": "execute_result"
    }
   ],
   "source": [
    "model.wv.most_similar('mario')"
   ]
  },
  {
   "cell_type": "code",
   "execution_count": 95,
   "metadata": {},
   "outputs": [
    {
     "data": {
      "text/plain": [
       "[('undead', 0.6956534385681152),\n",
       " ('horde', 0.6028316020965576),\n",
       " ('apocalypse', 0.5984140634536743),\n",
       " ('corps', 0.5807664394378662),\n",
       " ('infected', 0.55157870054245),\n",
       " ('monstrosity', 0.5394513010978699),\n",
       " ('mutant', 0.5382084250450134),\n",
       " ('mindless', 0.5296018719673157),\n",
       " ('outbreak', 0.5289222002029419),\n",
       " ('infection', 0.5239735841751099)]"
      ]
     },
     "execution_count": 95,
     "metadata": {},
     "output_type": "execute_result"
    }
   ],
   "source": [
    "model.wv.most_similar('zombie')"
   ]
  },
  {
   "cell_type": "code",
   "execution_count": 96,
   "metadata": {},
   "outputs": [],
   "source": [
    "# process game_descriptions into vectors based on word2vec model\n",
    "game_desc_vectors = []\n",
    "for desc in game_desc_tokens:\n",
    "    vector = np.zeros(100)\n",
    "    for word in desc:\n",
    "        try:\n",
    "            vector += model.wv[word]\n",
    "        except KeyError:\n",
    "            pass\n",
    "    game_desc_vectors.append(vector)"
   ]
  },
  {
   "cell_type": "code",
   "execution_count": 97,
   "metadata": {},
   "outputs": [],
   "source": [
    "game_desc_vectors = np.array(game_desc_vectors)"
   ]
  },
  {
   "cell_type": "code",
   "execution_count": 100,
   "metadata": {},
   "outputs": [],
   "source": [
    "# append game_tags to game_desc_vectors\n",
    "matrix = np.concatenate((game_desc_vectors, game_tags.values), axis=1)"
   ]
  },
  {
   "attachments": {},
   "cell_type": "markdown",
   "metadata": {},
   "source": [
    "### Cosine Similarity"
   ]
  },
  {
   "cell_type": "code",
   "execution_count": 103,
   "metadata": {},
   "outputs": [],
   "source": [
    "from sklearn.metrics.pairwise import cosine_similarity\n",
    "from tqdm import tqdm"
   ]
  },
  {
   "cell_type": "code",
   "execution_count": 200,
   "metadata": {},
   "outputs": [
    {
     "name": "stderr",
     "output_type": "stream",
     "text": [
      "  0%|          | 111/85964 [00:35<7:33:42,  3.15it/s]\n"
     ]
    },
    {
     "ename": "KeyboardInterrupt",
     "evalue": "",
     "output_type": "error",
     "traceback": [
      "\u001b[0;31m---------------------------------------------------------------------------\u001b[0m",
      "\u001b[0;31mKeyboardInterrupt\u001b[0m                         Traceback (most recent call last)",
      "\u001b[0;32m/tmp/ipykernel_16864/1752940369.py\u001b[0m in \u001b[0;36m<module>\u001b[0;34m\u001b[0m\n\u001b[1;32m      2\u001b[0m \u001b[0msimilarity_matrix\u001b[0m \u001b[0;34m=\u001b[0m \u001b[0;34m[\u001b[0m\u001b[0;34m]\u001b[0m\u001b[0;34m\u001b[0m\u001b[0;34m\u001b[0m\u001b[0m\n\u001b[1;32m      3\u001b[0m \u001b[0;32mfor\u001b[0m \u001b[0mvector\u001b[0m \u001b[0;32min\u001b[0m \u001b[0mtqdm\u001b[0m\u001b[0;34m(\u001b[0m\u001b[0mmatrix\u001b[0m\u001b[0;34m)\u001b[0m\u001b[0;34m:\u001b[0m\u001b[0;34m\u001b[0m\u001b[0;34m\u001b[0m\u001b[0m\n\u001b[0;32m----> 4\u001b[0;31m     \u001b[0msimilarity_matrix\u001b[0m\u001b[0;34m.\u001b[0m\u001b[0mappend\u001b[0m\u001b[0;34m(\u001b[0m\u001b[0mcosine_similarity\u001b[0m\u001b[0;34m(\u001b[0m\u001b[0;34m[\u001b[0m\u001b[0mvector\u001b[0m\u001b[0;34m]\u001b[0m\u001b[0;34m,\u001b[0m \u001b[0mmatrix\u001b[0m\u001b[0;34m)\u001b[0m\u001b[0;34m[\u001b[0m\u001b[0;36m0\u001b[0m\u001b[0;34m]\u001b[0m\u001b[0;34m)\u001b[0m\u001b[0;34m\u001b[0m\u001b[0;34m\u001b[0m\u001b[0m\n\u001b[0m",
      "\u001b[0;32m~/anaconda3/lib/python3.9/site-packages/sklearn/metrics/pairwise.py\u001b[0m in \u001b[0;36mcosine_similarity\u001b[0;34m(X, Y, dense_output)\u001b[0m\n\u001b[1;32m   1355\u001b[0m         \u001b[0mY_normalized\u001b[0m \u001b[0;34m=\u001b[0m \u001b[0mX_normalized\u001b[0m\u001b[0;34m\u001b[0m\u001b[0;34m\u001b[0m\u001b[0m\n\u001b[1;32m   1356\u001b[0m     \u001b[0;32melse\u001b[0m\u001b[0;34m:\u001b[0m\u001b[0;34m\u001b[0m\u001b[0;34m\u001b[0m\u001b[0m\n\u001b[0;32m-> 1357\u001b[0;31m         \u001b[0mY_normalized\u001b[0m \u001b[0;34m=\u001b[0m \u001b[0mnormalize\u001b[0m\u001b[0;34m(\u001b[0m\u001b[0mY\u001b[0m\u001b[0;34m,\u001b[0m \u001b[0mcopy\u001b[0m\u001b[0;34m=\u001b[0m\u001b[0;32mTrue\u001b[0m\u001b[0;34m)\u001b[0m\u001b[0;34m\u001b[0m\u001b[0;34m\u001b[0m\u001b[0m\n\u001b[0m\u001b[1;32m   1358\u001b[0m \u001b[0;34m\u001b[0m\u001b[0m\n\u001b[1;32m   1359\u001b[0m     \u001b[0mK\u001b[0m \u001b[0;34m=\u001b[0m \u001b[0msafe_sparse_dot\u001b[0m\u001b[0;34m(\u001b[0m\u001b[0mX_normalized\u001b[0m\u001b[0;34m,\u001b[0m \u001b[0mY_normalized\u001b[0m\u001b[0;34m.\u001b[0m\u001b[0mT\u001b[0m\u001b[0;34m,\u001b[0m \u001b[0mdense_output\u001b[0m\u001b[0;34m=\u001b[0m\u001b[0mdense_output\u001b[0m\u001b[0;34m)\u001b[0m\u001b[0;34m\u001b[0m\u001b[0;34m\u001b[0m\u001b[0m\n",
      "\u001b[0;32m~/anaconda3/lib/python3.9/site-packages/sklearn/preprocessing/_data.py\u001b[0m in \u001b[0;36mnormalize\u001b[0;34m(X, norm, axis, copy, return_norm)\u001b[0m\n\u001b[1;32m   1784\u001b[0m         \u001b[0;32mraise\u001b[0m \u001b[0mValueError\u001b[0m\u001b[0;34m(\u001b[0m\u001b[0;34m\"'%d' is not a supported axis\"\u001b[0m \u001b[0;34m%\u001b[0m \u001b[0maxis\u001b[0m\u001b[0;34m)\u001b[0m\u001b[0;34m\u001b[0m\u001b[0;34m\u001b[0m\u001b[0m\n\u001b[1;32m   1785\u001b[0m \u001b[0;34m\u001b[0m\u001b[0m\n\u001b[0;32m-> 1786\u001b[0;31m     X = check_array(\n\u001b[0m\u001b[1;32m   1787\u001b[0m         \u001b[0mX\u001b[0m\u001b[0;34m,\u001b[0m\u001b[0;34m\u001b[0m\u001b[0;34m\u001b[0m\u001b[0m\n\u001b[1;32m   1788\u001b[0m         \u001b[0maccept_sparse\u001b[0m\u001b[0;34m=\u001b[0m\u001b[0msparse_format\u001b[0m\u001b[0;34m,\u001b[0m\u001b[0;34m\u001b[0m\u001b[0;34m\u001b[0m\u001b[0m\n",
      "\u001b[0;32m~/anaconda3/lib/python3.9/site-packages/sklearn/utils/validation.py\u001b[0m in \u001b[0;36mcheck_array\u001b[0;34m(array, accept_sparse, accept_large_sparse, dtype, order, copy, force_all_finite, ensure_2d, allow_nd, ensure_min_samples, ensure_min_features, estimator, input_name)\u001b[0m\n\u001b[1;32m    923\u001b[0m \u001b[0;34m\u001b[0m\u001b[0m\n\u001b[1;32m    924\u001b[0m     \u001b[0;32mif\u001b[0m \u001b[0mcopy\u001b[0m \u001b[0;32mand\u001b[0m \u001b[0mnp\u001b[0m\u001b[0;34m.\u001b[0m\u001b[0mmay_share_memory\u001b[0m\u001b[0;34m(\u001b[0m\u001b[0marray\u001b[0m\u001b[0;34m,\u001b[0m \u001b[0marray_orig\u001b[0m\u001b[0;34m)\u001b[0m\u001b[0;34m:\u001b[0m\u001b[0;34m\u001b[0m\u001b[0;34m\u001b[0m\u001b[0m\n\u001b[0;32m--> 925\u001b[0;31m         \u001b[0marray\u001b[0m \u001b[0;34m=\u001b[0m \u001b[0mnp\u001b[0m\u001b[0;34m.\u001b[0m\u001b[0marray\u001b[0m\u001b[0;34m(\u001b[0m\u001b[0marray\u001b[0m\u001b[0;34m,\u001b[0m \u001b[0mdtype\u001b[0m\u001b[0;34m=\u001b[0m\u001b[0mdtype\u001b[0m\u001b[0;34m,\u001b[0m \u001b[0morder\u001b[0m\u001b[0;34m=\u001b[0m\u001b[0morder\u001b[0m\u001b[0;34m)\u001b[0m\u001b[0;34m\u001b[0m\u001b[0;34m\u001b[0m\u001b[0m\n\u001b[0m\u001b[1;32m    926\u001b[0m \u001b[0;34m\u001b[0m\u001b[0m\n\u001b[1;32m    927\u001b[0m     \u001b[0;32mreturn\u001b[0m \u001b[0marray\u001b[0m\u001b[0;34m\u001b[0m\u001b[0;34m\u001b[0m\u001b[0m\n",
      "\u001b[0;31mKeyboardInterrupt\u001b[0m: "
     ]
    }
   ],
   "source": [
    "# do cosine_similarity one by one so i wont run out of memory\n",
    "similarity_matrix = []\n",
    "for vector in tqdm(matrix):\n",
    "    similarity_matrix.append(cosine_similarity([vector], matrix)[0])"
   ]
  },
  {
   "cell_type": "code",
   "execution_count": 91,
   "metadata": {},
   "outputs": [],
   "source": [
    "# Construct a reverse map of indices and game titles\n",
    "indices = pd.Series(games_df.index, index=games_df['Name'])"
   ]
  },
  {
   "cell_type": "code",
   "execution_count": 101,
   "metadata": {},
   "outputs": [],
   "source": [
    "def recommend_content(title, matrix=matrix):\n",
    "    '''Get similar games based on content using the similarity matrix'''\n",
    "    # get index for our game\n",
    "    idx = indices[title]\n",
    "\n",
    "    sim_scores = cosine_similarity(matrix[idx].reshape(1, -1), matrix)\n",
    "    \n",
    "    # sort scores based on similarity\n",
    "    sorted_sim_scores = sorted(list(enumerate(sim_scores[0])), key=lambda x: x[1], reverse=True)\n",
    "    \n",
    "    # make a dictionary with title as key and score as value\n",
    "    content_similar_scores = {indices.index[i[0]]: i[1] for i in sorted_sim_scores[1:21]}\n",
    "\n",
    "    return content_similar_scores"
   ]
  },
  {
   "cell_type": "code",
   "execution_count": 110,
   "metadata": {},
   "outputs": [
    {
     "data": {
      "text/plain": [
       "{'The King of Fighters XIV': 0.8725421392158721,\n",
       " 'Marvel vs. Capcom: Infinite': 0.8509478814305282,\n",
       " 'Virtua Fighter 5 Ultimate Showdown': 0.8501745253431301,\n",
       " 'Ultra Street Fighter II: The Final Challengers': 0.8463247625445645,\n",
       " \"Spawn: In the Demon's Hand\": 0.8430006567916725,\n",
       " 'TEPPEN': 0.8419402231818001,\n",
       " 'Groove on Fight: Gouketsuji Ichizoku 3': 0.8378511722228943,\n",
       " 'SoulCalibur VI': 0.836656280106243,\n",
       " 'Samurai Warriors 2': 0.8356113080831784,\n",
       " 'Tekken Tag Tournament 2': 0.8344604723437308,\n",
       " 'Warriors Orochi 3: Ultimate': 0.8306557517034472,\n",
       " 'SoulCalibur IV & Tekken 6': 0.8285276711083543,\n",
       " 'Street Fighter EX3': 0.8238885570053209,\n",
       " 'Onimusha: Blade Warriors': 0.8211195769850643,\n",
       " 'Halo 5: Guardians': 0.8193991154690048,\n",
       " 'Halo 5: Guardians: Limited Edition': 0.8193991154690048,\n",
       " 'Street Fighter 6': 0.8193635342156067,\n",
       " 'Marvel vs. Capcom: Clash of Super Heroes': 0.8160364857929046,\n",
       " 'Street Fighter III: Third Strike Online Edition': 0.8146280391061557,\n",
       " 'Naruto to Boruto: Shinobi Striker': 0.8140402352702583}"
      ]
     },
     "execution_count": 110,
     "metadata": {},
     "output_type": "execute_result"
    }
   ],
   "source": [
    "recommend_content('Samurai Shodown', matrix=game_desc_vectors)"
   ]
  },
  {
   "cell_type": "code",
   "execution_count": null,
   "metadata": {},
   "outputs": [],
   "source": []
  }
 ],
 "metadata": {
  "kernelspec": {
   "display_name": "base",
   "language": "python",
   "name": "python3"
  },
  "language_info": {
   "codemirror_mode": {
    "name": "ipython",
    "version": 3
   },
   "file_extension": ".py",
   "mimetype": "text/x-python",
   "name": "python",
   "nbconvert_exporter": "python",
   "pygments_lexer": "ipython3",
   "version": "3.9.7"
  },
  "orig_nbformat": 4
 },
 "nbformat": 4,
 "nbformat_minor": 2
}
