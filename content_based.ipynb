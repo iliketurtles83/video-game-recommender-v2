{
 "cells": [
  {
   "attachments": {},
   "cell_type": "markdown",
   "metadata": {},
   "source": [
    "## Content-Based Filtering of Game Metadata\n",
    "## Based on TheGamesDB"
   ]
  },
  {
   "cell_type": "code",
   "execution_count": 1,
   "metadata": {},
   "outputs": [],
   "source": [
    "import pandas as pd\n",
    "import numpy as np"
   ]
  },
  {
   "cell_type": "code",
   "execution_count": 2,
   "metadata": {},
   "outputs": [],
   "source": [
    "# mdb file was split into 3 files due to MS Acces export limitations\n",
    "Game = pd.read_excel('Game.xlsx')\n",
    "Game1 = pd.read_excel('Game1.xlsx')\n",
    "Game3 = pd.read_excel('Game3.xlsx')"
   ]
  },
  {
   "cell_type": "code",
   "execution_count": 3,
   "metadata": {},
   "outputs": [],
   "source": [
    "# combine all the dataframes into one\n",
    "Game = pd.concat([Game, Game1, Game3], ignore_index=True)"
   ]
  },
  {
   "attachments": {},
   "cell_type": "markdown",
   "metadata": {},
   "source": [
    "### EDA and Data Cleaning"
   ]
  },
  {
   "cell_type": "code",
   "execution_count": 4,
   "metadata": {},
   "outputs": [
    {
     "data": {
      "text/html": [
       "<div>\n",
       "<style scoped>\n",
       "    .dataframe tbody tr th:only-of-type {\n",
       "        vertical-align: middle;\n",
       "    }\n",
       "\n",
       "    .dataframe tbody tr th {\n",
       "        vertical-align: top;\n",
       "    }\n",
       "\n",
       "    .dataframe thead th {\n",
       "        text-align: right;\n",
       "    }\n",
       "</style>\n",
       "<table border=\"1\" class=\"dataframe\">\n",
       "  <thead>\n",
       "    <tr style=\"text-align: right;\">\n",
       "      <th></th>\n",
       "      <th>Name</th>\n",
       "      <th>ReleaseYear</th>\n",
       "      <th>Overview</th>\n",
       "      <th>MaxPlayers</th>\n",
       "      <th>ReleaseType</th>\n",
       "      <th>Cooperative</th>\n",
       "      <th>VideoURL</th>\n",
       "      <th>CommunityRating</th>\n",
       "      <th>Platform</th>\n",
       "      <th>ESRB</th>\n",
       "      <th>...</th>\n",
       "      <th>AlternateName_China</th>\n",
       "      <th>AlternateName_Europe</th>\n",
       "      <th>AlternateName_France</th>\n",
       "      <th>AlternateName_Germany</th>\n",
       "      <th>AlternateName_Japan</th>\n",
       "      <th>AlternateName_Korea</th>\n",
       "      <th>AlternateName_NorthAmerica</th>\n",
       "      <th>AlternateName_Spain</th>\n",
       "      <th>AlternateName_UnitedStates</th>\n",
       "      <th>AlternateName_World</th>\n",
       "    </tr>\n",
       "  </thead>\n",
       "  <tbody>\n",
       "    <tr>\n",
       "      <th>0</th>\n",
       "      <td>Shiren Monsters: Netsal</td>\n",
       "      <td>NaN</td>\n",
       "      <td>Netsal is a Sports game, published by ChunSoft...</td>\n",
       "      <td>1.0</td>\n",
       "      <td>Released</td>\n",
       "      <td>False</td>\n",
       "      <td>NaN</td>\n",
       "      <td>2.166667</td>\n",
       "      <td>Nintendo Game Boy Advance</td>\n",
       "      <td>Not Rated</td>\n",
       "      <td>...</td>\n",
       "      <td>NaN</td>\n",
       "      <td>NaN</td>\n",
       "      <td>NaN</td>\n",
       "      <td>NaN</td>\n",
       "      <td>NaN</td>\n",
       "      <td>NaN</td>\n",
       "      <td>NaN</td>\n",
       "      <td>NaN</td>\n",
       "      <td>NaN</td>\n",
       "      <td>NaN</td>\n",
       "    </tr>\n",
       "    <tr>\n",
       "      <th>1</th>\n",
       "      <td>Shonen Jump's One Piece</td>\n",
       "      <td>NaN</td>\n",
       "      <td>You can try to grab the greatest treasure of t...</td>\n",
       "      <td>NaN</td>\n",
       "      <td>Released</td>\n",
       "      <td>False</td>\n",
       "      <td>NaN</td>\n",
       "      <td>4.153846</td>\n",
       "      <td>Nintendo Game Boy Advance</td>\n",
       "      <td>E - Everyone</td>\n",
       "      <td>...</td>\n",
       "      <td>NaN</td>\n",
       "      <td>NaN</td>\n",
       "      <td>NaN</td>\n",
       "      <td>NaN</td>\n",
       "      <td>NaN</td>\n",
       "      <td>NaN</td>\n",
       "      <td>NaN</td>\n",
       "      <td>NaN</td>\n",
       "      <td>NaN</td>\n",
       "      <td>NaN</td>\n",
       "    </tr>\n",
       "    <tr>\n",
       "      <th>2</th>\n",
       "      <td>Shonen Jump's Shaman King: Legacy of the Spiri...</td>\n",
       "      <td>NaN</td>\n",
       "      <td>Assume the role of Yoh Asakura in the ultimate...</td>\n",
       "      <td>1.0</td>\n",
       "      <td>Released</td>\n",
       "      <td>False</td>\n",
       "      <td>https://www.youtube.com/watch?v=Th323uP886Y</td>\n",
       "      <td>3.428571</td>\n",
       "      <td>Nintendo Game Boy Advance</td>\n",
       "      <td>E - Everyone</td>\n",
       "      <td>...</td>\n",
       "      <td>NaN</td>\n",
       "      <td>NaN</td>\n",
       "      <td>NaN</td>\n",
       "      <td>NaN</td>\n",
       "      <td>NaN</td>\n",
       "      <td>NaN</td>\n",
       "      <td>NaN</td>\n",
       "      <td>NaN</td>\n",
       "      <td>NaN</td>\n",
       "      <td>NaN</td>\n",
       "    </tr>\n",
       "    <tr>\n",
       "      <th>3</th>\n",
       "      <td>Shonen Jump's Shaman King: Legacy of the Spiri...</td>\n",
       "      <td>NaN</td>\n",
       "      <td>Assume the role of Yoh Asakura in the ultimate...</td>\n",
       "      <td>1.0</td>\n",
       "      <td>Released</td>\n",
       "      <td>False</td>\n",
       "      <td>https://www.youtube.com/watch?v=tjY9-A-eGzE</td>\n",
       "      <td>4.029412</td>\n",
       "      <td>Nintendo Game Boy Advance</td>\n",
       "      <td>E - Everyone</td>\n",
       "      <td>...</td>\n",
       "      <td>NaN</td>\n",
       "      <td>NaN</td>\n",
       "      <td>NaN</td>\n",
       "      <td>NaN</td>\n",
       "      <td>NaN</td>\n",
       "      <td>NaN</td>\n",
       "      <td>NaN</td>\n",
       "      <td>NaN</td>\n",
       "      <td>NaN</td>\n",
       "      <td>NaN</td>\n",
       "    </tr>\n",
       "    <tr>\n",
       "      <th>4</th>\n",
       "      <td>Shonen Jump's Shaman King: Master of Spirits</td>\n",
       "      <td>NaN</td>\n",
       "      <td>In this game you play Yoh Asakura from the Sha...</td>\n",
       "      <td>1.0</td>\n",
       "      <td>Released</td>\n",
       "      <td>False</td>\n",
       "      <td>https://www.youtube.com/watch?v=GbrAXjtTiLo</td>\n",
       "      <td>3.625000</td>\n",
       "      <td>Nintendo Game Boy Advance</td>\n",
       "      <td>E - Everyone</td>\n",
       "      <td>...</td>\n",
       "      <td>NaN</td>\n",
       "      <td>NaN</td>\n",
       "      <td>NaN</td>\n",
       "      <td>NaN</td>\n",
       "      <td>NaN</td>\n",
       "      <td>NaN</td>\n",
       "      <td>NaN</td>\n",
       "      <td>NaN</td>\n",
       "      <td>NaN</td>\n",
       "      <td>NaN</td>\n",
       "    </tr>\n",
       "  </tbody>\n",
       "</table>\n",
       "<p>5 rows × 29 columns</p>\n",
       "</div>"
      ],
      "text/plain": [
       "                                                Name  ReleaseYear  \\\n",
       "0                            Shiren Monsters: Netsal          NaN   \n",
       "1                            Shonen Jump's One Piece          NaN   \n",
       "2  Shonen Jump's Shaman King: Legacy of the Spiri...          NaN   \n",
       "3  Shonen Jump's Shaman King: Legacy of the Spiri...          NaN   \n",
       "4       Shonen Jump's Shaman King: Master of Spirits          NaN   \n",
       "\n",
       "                                            Overview  MaxPlayers ReleaseType  \\\n",
       "0  Netsal is a Sports game, published by ChunSoft...         1.0    Released   \n",
       "1  You can try to grab the greatest treasure of t...         NaN    Released   \n",
       "2  Assume the role of Yoh Asakura in the ultimate...         1.0    Released   \n",
       "3  Assume the role of Yoh Asakura in the ultimate...         1.0    Released   \n",
       "4  In this game you play Yoh Asakura from the Sha...         1.0    Released   \n",
       "\n",
       "   Cooperative                                     VideoURL  CommunityRating  \\\n",
       "0        False                                          NaN         2.166667   \n",
       "1        False                                          NaN         4.153846   \n",
       "2        False  https://www.youtube.com/watch?v=Th323uP886Y         3.428571   \n",
       "3        False  https://www.youtube.com/watch?v=tjY9-A-eGzE         4.029412   \n",
       "4        False  https://www.youtube.com/watch?v=GbrAXjtTiLo         3.625000   \n",
       "\n",
       "                    Platform          ESRB  ...  AlternateName_China  \\\n",
       "0  Nintendo Game Boy Advance     Not Rated  ...                  NaN   \n",
       "1  Nintendo Game Boy Advance  E - Everyone  ...                  NaN   \n",
       "2  Nintendo Game Boy Advance  E - Everyone  ...                  NaN   \n",
       "3  Nintendo Game Boy Advance  E - Everyone  ...                  NaN   \n",
       "4  Nintendo Game Boy Advance  E - Everyone  ...                  NaN   \n",
       "\n",
       "  AlternateName_Europe AlternateName_France AlternateName_Germany  \\\n",
       "0                  NaN                  NaN                   NaN   \n",
       "1                  NaN                  NaN                   NaN   \n",
       "2                  NaN                  NaN                   NaN   \n",
       "3                  NaN                  NaN                   NaN   \n",
       "4                  NaN                  NaN                   NaN   \n",
       "\n",
       "   AlternateName_Japan  AlternateName_Korea AlternateName_NorthAmerica  \\\n",
       "0                  NaN                  NaN                        NaN   \n",
       "1                  NaN                  NaN                        NaN   \n",
       "2                  NaN                  NaN                        NaN   \n",
       "3                  NaN                  NaN                        NaN   \n",
       "4                  NaN                  NaN                        NaN   \n",
       "\n",
       "  AlternateName_Spain AlternateName_UnitedStates  AlternateName_World  \n",
       "0                 NaN                        NaN                  NaN  \n",
       "1                 NaN                        NaN                  NaN  \n",
       "2                 NaN                        NaN                  NaN  \n",
       "3                 NaN                        NaN                  NaN  \n",
       "4                 NaN                        NaN                  NaN  \n",
       "\n",
       "[5 rows x 29 columns]"
      ]
     },
     "execution_count": 4,
     "metadata": {},
     "output_type": "execute_result"
    }
   ],
   "source": [
    "Game.head()"
   ]
  },
  {
   "cell_type": "code",
   "execution_count": 5,
   "metadata": {},
   "outputs": [
    {
     "data": {
      "text/plain": [
       "Index(['Name', 'ReleaseYear', 'Overview', 'MaxPlayers', 'ReleaseType',\n",
       "       'Cooperative', 'VideoURL', 'CommunityRating', 'Platform', 'ESRB',\n",
       "       'CommunityRatingCount', 'Genres', 'Developer', 'Publisher', 'N°',\n",
       "       'DatabaseID', 'WikipediaURL', 'AlternateName_Australia',\n",
       "       'AlternateName_Brazil', 'AlternateName_China', 'AlternateName_Europe',\n",
       "       'AlternateName_France', 'AlternateName_Germany', 'AlternateName_Japan',\n",
       "       'AlternateName_Korea', 'AlternateName_NorthAmerica',\n",
       "       'AlternateName_Spain', 'AlternateName_UnitedStates',\n",
       "       'AlternateName_World'],\n",
       "      dtype='object')"
      ]
     },
     "execution_count": 5,
     "metadata": {},
     "output_type": "execute_result"
    }
   ],
   "source": [
    "# check columns\n",
    "Game.columns"
   ]
  },
  {
   "cell_type": "code",
   "execution_count": 6,
   "metadata": {},
   "outputs": [],
   "source": [
    "games_df = Game[['Name', 'Overview', 'Cooperative', 'Platform', 'Genres', 'Developer', 'Publisher']]"
   ]
  },
  {
   "cell_type": "code",
   "execution_count": 7,
   "metadata": {},
   "outputs": [],
   "source": [
    "# drop where no overview is available\n",
    "games_df = games_df.dropna(subset=['Overview'])"
   ]
  },
  {
   "cell_type": "code",
   "execution_count": 8,
   "metadata": {},
   "outputs": [
    {
     "data": {
      "text/plain": [
       "214097"
      ]
     },
     "execution_count": 8,
     "metadata": {},
     "output_type": "execute_result"
    }
   ],
   "source": [
    "len(games_df)"
   ]
  },
  {
   "cell_type": "code",
   "execution_count": 9,
   "metadata": {},
   "outputs": [
    {
     "data": {
      "text/plain": [
       "Name               0\n",
       "Overview           0\n",
       "Cooperative        0\n",
       "Platform           0\n",
       "Genres         10513\n",
       "Developer      16604\n",
       "Publisher      16196\n",
       "dtype: int64"
      ]
     },
     "execution_count": 9,
     "metadata": {},
     "output_type": "execute_result"
    }
   ],
   "source": [
    "# show zero values for each column\n",
    "games_df.isna().sum()"
   ]
  },
  {
   "cell_type": "code",
   "execution_count": 10,
   "metadata": {},
   "outputs": [],
   "source": [
    "# duplicates drop\n",
    "games_df = games_df.drop_duplicates(subset=['Name'], keep='first')"
   ]
  },
  {
   "cell_type": "code",
   "execution_count": 14,
   "metadata": {},
   "outputs": [],
   "source": [
    "# Write developer to publisher if publisher is empty\n",
    "games_df['Publisher'] = games_df['Publisher'].fillna(games_df['Developer'])"
   ]
  },
  {
   "cell_type": "code",
   "execution_count": 15,
   "metadata": {},
   "outputs": [],
   "source": [
    "# Write publisher to developer if developer is empty\n",
    "games_df['Developer'] = games_df['Developer'].fillna(games_df['Publisher'])"
   ]
  },
  {
   "cell_type": "code",
   "execution_count": 16,
   "metadata": {},
   "outputs": [],
   "source": [
    "# fill empty values with empty string\n",
    "games_df['Genres'].fillna('', inplace=True)\n",
    "games_df['Developer'].fillna('', inplace=True)\n",
    "games_df['Publisher'].fillna('', inplace=True)"
   ]
  },
  {
   "cell_type": "code",
   "execution_count": 17,
   "metadata": {},
   "outputs": [
    {
     "data": {
      "text/plain": [
       "Name           0\n",
       "Overview       0\n",
       "Cooperative    0\n",
       "Platform       0\n",
       "Genres         0\n",
       "Developer      0\n",
       "Publisher      0\n",
       "dtype: int64"
      ]
     },
     "execution_count": 17,
     "metadata": {},
     "output_type": "execute_result"
    }
   ],
   "source": [
    "games_df.isna().sum()"
   ]
  },
  {
   "attachments": {},
   "cell_type": "markdown",
   "metadata": {},
   "source": [
    "### Data Preprocessing"
   ]
  },
  {
   "cell_type": "code",
   "execution_count": 18,
   "metadata": {},
   "outputs": [],
   "source": [
    "# prepend developer to overview\n",
    "games_df['Overview'] = games_df['Developer'] + ' ' + games_df['Overview']"
   ]
  },
  {
   "cell_type": "code",
   "execution_count": 19,
   "metadata": {},
   "outputs": [],
   "source": [
    "# one-hot encode cooperative\n",
    "CoopDummies = pd.get_dummies(games_df['Cooperative'], prefix='Coop')"
   ]
  },
  {
   "cell_type": "code",
   "execution_count": 20,
   "metadata": {},
   "outputs": [],
   "source": [
    "# add CoopDummies back and drop the original column\n",
    "games_df = pd.concat([games_df, CoopDummies], axis=1)\n",
    "games_df.drop(['Cooperative'], axis=1, inplace=True)"
   ]
  },
  {
   "cell_type": "code",
   "execution_count": 21,
   "metadata": {},
   "outputs": [],
   "source": [
    "# multilabel binarizer\n",
    "from sklearn.preprocessing import MultiLabelBinarizer\n",
    "mlb = MultiLabelBinarizer()"
   ]
  },
  {
   "cell_type": "code",
   "execution_count": 22,
   "metadata": {},
   "outputs": [],
   "source": [
    "# One-hot encode genres that are separated by '; '\n",
    "games_df['Genres'] = games_df['Genres'].str.split('; ')\n",
    "genres_df = pd.DataFrame(mlb.fit_transform(games_df.pop('Genres')), columns=mlb.classes_, index=games_df.index)"
   ]
  },
  {
   "cell_type": "code",
   "execution_count": 23,
   "metadata": {},
   "outputs": [],
   "source": [
    "# join genres_df back to games_df\n",
    "games_df = pd.concat([games_df, genres_df], axis=1)"
   ]
  },
  {
   "cell_type": "code",
   "execution_count": 24,
   "metadata": {},
   "outputs": [],
   "source": [
    "games_df.reset_index(drop=True, inplace=True)"
   ]
  },
  {
   "cell_type": "code",
   "execution_count": 25,
   "metadata": {},
   "outputs": [],
   "source": [
    "# drop '' column\n",
    "games_df.drop([''], axis=1, inplace=True)"
   ]
  },
  {
   "cell_type": "code",
   "execution_count": 26,
   "metadata": {},
   "outputs": [
    {
     "data": {
      "text/plain": [
       "Index(['Name', 'Overview', 'Platform', 'Developer', 'Publisher', 'Coop_False',\n",
       "       'Coop_True', 'Action', 'Adventure', 'Beat 'em Up', 'Board Game',\n",
       "       'Casino', 'Construction and Management Simulation', 'Education',\n",
       "       'Fighting', 'Flight Simulator', 'Horror', 'Life Simulation', 'MMO',\n",
       "       'Music', 'Party', 'Platform', 'Puzzle', 'Quiz', 'Racing',\n",
       "       'Role-Playing', 'Sandbox', 'Shooter', 'Sports', 'Stealth', 'Strategy',\n",
       "       'Vehicle Simulation', 'Visual Novel'],\n",
       "      dtype='object')"
      ]
     },
     "execution_count": 26,
     "metadata": {},
     "output_type": "execute_result"
    }
   ],
   "source": [
    "games_df.columns"
   ]
  },
  {
   "cell_type": "code",
   "execution_count": 27,
   "metadata": {},
   "outputs": [
    {
     "name": "stderr",
     "output_type": "stream",
     "text": [
      "[nltk_data] Downloading package wordnet to /home/berry/nltk_data...\n",
      "[nltk_data]   Package wordnet is already up-to-date!\n"
     ]
    }
   ],
   "source": [
    "import nltk\n",
    "nltk.download('wordnet')\n",
    "stopwords = nltk.corpus.stopwords.words('english')"
   ]
  },
  {
   "cell_type": "code",
   "execution_count": 28,
   "metadata": {},
   "outputs": [],
   "source": [
    "# lemmatizer and stemmer. Only use one of them\n",
    "# porter = PorterStemmer()\n",
    "from nltk.tokenize import word_tokenize\n",
    "from nltk.stem import WordNetLemmatizer\n",
    "lemmatizer = WordNetLemmatizer()\n",
    "import string"
   ]
  },
  {
   "cell_type": "code",
   "execution_count": 29,
   "metadata": {},
   "outputs": [],
   "source": [
    "# function to clean text\n",
    "def clean_text(text):\n",
    "    # hyphens to space\n",
    "    text = text.replace('-', ' ')\n",
    "    # remove punctuation\n",
    "    text = text.translate(str.maketrans('', '', string.punctuation))\n",
    "    # remove numbers\n",
    "    # text = text.translate(str.maketrans('', '', string.digits))\n",
    "    # make lowercase\n",
    "    text = text.lower()\n",
    "    # tokenize text\n",
    "    tokens = word_tokenize(text)\n",
    "    # remove stopwords\n",
    "    tokens = [w for w in tokens if w not in stopwords]\n",
    "    # lemmatize words\n",
    "    tokens = [lemmatizer.lemmatize(w) for w in tokens]\n",
    "    # stem words\n",
    "    # tokens = [porter.stem(w) for w in tokens]\n",
    "    return tokens"
   ]
  },
  {
   "cell_type": "code",
   "execution_count": 30,
   "metadata": {},
   "outputs": [],
   "source": [
    "# apply clean_text function to description column\n",
    "games_df['Overview_clean'] = games_df['Overview'].apply(clean_text)"
   ]
  },
  {
   "cell_type": "code",
   "execution_count": 31,
   "metadata": {},
   "outputs": [],
   "source": [
    "game_tags = games_df.drop(columns=['Name', 'Overview', 'Platform', 'Developer', 'Publisher', 'Overview_clean'])"
   ]
  },
  {
   "attachments": {},
   "cell_type": "markdown",
   "metadata": {},
   "source": [
    "### Word2Vec"
   ]
  },
  {
   "cell_type": "code",
   "execution_count": 32,
   "metadata": {},
   "outputs": [
    {
     "data": {
      "text/plain": [
       "0        [chunsoft, netsal, sport, game, published, chu...\n",
       "1        [dimps, corporation, try, grab, greatest, trea...\n",
       "2        [kcej, assume, role, yoh, asakura, ultimate, q...\n",
       "3        [kcej, assume, role, yoh, asakura, ultimate, q...\n",
       "4        [kcej, game, play, yoh, asakura, shaman, king,...\n",
       "                               ...                        \n",
       "85959    [robert, dillinger, space, invadersgorf, style...\n",
       "85960    [stuart, smith, player, travel, land, greece, ...\n",
       "85961    [jon, mattson, text, adventure, sequel, dial, ...\n",
       "85962    [gareth, pitchford, designed, small, four, loc...\n",
       "85963    [bimbarlade, upon, time, king, obsessed, hunti...\n",
       "Name: Overview_clean, Length: 85964, dtype: object"
      ]
     },
     "execution_count": 32,
     "metadata": {},
     "output_type": "execute_result"
    }
   ],
   "source": [
    "games_df['Overview_clean']"
   ]
  },
  {
   "cell_type": "code",
   "execution_count": 33,
   "metadata": {},
   "outputs": [],
   "source": [
    "from gensim.models import Word2Vec\n",
    "\n",
    "\n",
    "# instantiate model\n",
    "model = Word2Vec(min_count=20, window=5)"
   ]
  },
  {
   "cell_type": "code",
   "execution_count": 34,
   "metadata": {},
   "outputs": [],
   "source": [
    "# overview column to list\n",
    "game_desc_tokens = games_df['Overview_clean'].tolist()"
   ]
  },
  {
   "cell_type": "code",
   "execution_count": 35,
   "metadata": {},
   "outputs": [],
   "source": [
    "model.build_vocab(game_desc_tokens, progress_per=1000)"
   ]
  },
  {
   "cell_type": "code",
   "execution_count": 36,
   "metadata": {},
   "outputs": [
    {
     "data": {
      "text/plain": [
       "(162902635, 181279230)"
      ]
     },
     "execution_count": 36,
     "metadata": {},
     "output_type": "execute_result"
    }
   ],
   "source": [
    "model.train(game_desc_tokens, total_examples=model.corpus_count, epochs=30, report_delay=1)"
   ]
  },
  {
   "cell_type": "code",
   "execution_count": 37,
   "metadata": {},
   "outputs": [
    {
     "data": {
      "text/plain": [
       "[('luigi', 0.5947633385658264),\n",
       " ('yoshi', 0.5783502459526062),\n",
       " ('metroid', 0.5585972666740417),\n",
       " ('marios', 0.5278715491294861),\n",
       " ('waluigi', 0.5268223285675049),\n",
       " ('bros', 0.5211812257766724),\n",
       " ('sonic', 0.5068606734275818),\n",
       " ('kart', 0.5012959837913513),\n",
       " ('kirby', 0.4876628518104553),\n",
       " ('yoshis', 0.48446398973464966)]"
      ]
     },
     "execution_count": 37,
     "metadata": {},
     "output_type": "execute_result"
    }
   ],
   "source": [
    "model.wv.most_similar('mario')"
   ]
  },
  {
   "cell_type": "code",
   "execution_count": 38,
   "metadata": {},
   "outputs": [
    {
     "data": {
      "text/plain": [
       "[('undead', 0.6855775713920593),\n",
       " ('mutant', 0.5581833124160767),\n",
       " ('monstrosity', 0.55033940076828),\n",
       " ('insect', 0.5427649617195129),\n",
       " ('horde', 0.5257471203804016),\n",
       " ('infected', 0.5071948766708374),\n",
       " ('ghoul', 0.5051590204238892),\n",
       " ('skeleton', 0.4895174205303192),\n",
       " ('corps', 0.48681408166885376),\n",
       " ('rampaging', 0.4863361716270447)]"
      ]
     },
     "execution_count": 38,
     "metadata": {},
     "output_type": "execute_result"
    }
   ],
   "source": [
    "model.wv.most_similar('zombie')"
   ]
  },
  {
   "cell_type": "code",
   "execution_count": 39,
   "metadata": {},
   "outputs": [],
   "source": [
    "# process game_descriptions into vectors based on word2vec model\n",
    "game_desc_vectors = []\n",
    "for desc in game_desc_tokens:\n",
    "    vector = np.zeros(100)\n",
    "    for word in desc:\n",
    "        try:\n",
    "            vector += model.wv[word]\n",
    "        except KeyError:\n",
    "            pass\n",
    "    game_desc_vectors.append(vector)"
   ]
  },
  {
   "cell_type": "code",
   "execution_count": 40,
   "metadata": {},
   "outputs": [],
   "source": [
    "game_desc_vectors = np.array(game_desc_vectors)"
   ]
  },
  {
   "cell_type": "code",
   "execution_count": 41,
   "metadata": {},
   "outputs": [],
   "source": [
    "# append game_tags to game_desc_vectors\n",
    "matrix = np.concatenate((game_desc_vectors, game_tags.values), axis=1)"
   ]
  },
  {
   "cell_type": "code",
   "execution_count": 42,
   "metadata": {},
   "outputs": [],
   "source": [
    "# store matrix in pickle\n",
    "import pickle\n",
    "pickle.dump(matrix, open('matrix.pkl', 'wb'))"
   ]
  },
  {
   "attachments": {},
   "cell_type": "markdown",
   "metadata": {},
   "source": [
    "### Cosine Similarity"
   ]
  },
  {
   "cell_type": "code",
   "execution_count": 43,
   "metadata": {},
   "outputs": [],
   "source": [
    "from sklearn.metrics.pairwise import cosine_similarity\n",
    "from tqdm import tqdm"
   ]
  },
  {
   "cell_type": "code",
   "execution_count": 44,
   "metadata": {},
   "outputs": [],
   "source": [
    "# Construct a reverse map of indices and game titles\n",
    "indices = pd.Series(games_df.index, index=games_df['Name'])"
   ]
  },
  {
   "cell_type": "code",
   "execution_count": 45,
   "metadata": {},
   "outputs": [],
   "source": [
    "def recommend_content(title, matrix=matrix):\n",
    "    '''Get similar games based on content using the similarity matrix'''\n",
    "    # get index for our game\n",
    "    idx = indices[title]\n",
    "\n",
    "    sim_scores = cosine_similarity(matrix[idx].reshape(1, -1), matrix)\n",
    "    \n",
    "    # sort scores based on similarity\n",
    "    sorted_sim_scores = sorted(list(enumerate(sim_scores[0])), key=lambda x: x[1], reverse=True)\n",
    "    \n",
    "    # make a dictionary with title as key and score as value\n",
    "    content_similar_scores = {indices.index[i[0]]: i[1] for i in sorted_sim_scores[1:21]}\n",
    "\n",
    "    return content_similar_scores"
   ]
  },
  {
   "cell_type": "code",
   "execution_count": 48,
   "metadata": {},
   "outputs": [
    {
     "data": {
      "text/plain": [
       "{\"Bamber's Fighting Clone: Duel Sword Doods\": 0.8007226017384659,\n",
       " 'Demon Warrior': 0.7860933195040416,\n",
       " 'Kasumi Ninja': 0.7682937866963682,\n",
       " 'Samurai Shodown: Warriors Rage': 0.7646426057421187,\n",
       " 'Duel Sword Doods': 0.7596236156339276,\n",
       " 'Spectral vs. Generation': 0.7592766689494024,\n",
       " 'Shakii the Wolf': 0.7584396632489964,\n",
       " 'Double Dragon V: The Shadow Falls': 0.7559188660108631,\n",
       " 'Spectral Vs. Generation': 0.7549709899563433,\n",
       " 'The Revenge of Shinobi': 0.7524692436533136,\n",
       " 'Hiryuu no Ken III: 5 Nin no Ryuu Senshi': 0.751994609005994,\n",
       " 'Samurai Bringer': 0.7500590858737819,\n",
       " 'Ninja Gaiden Sigma': 0.748431206341419,\n",
       " 'Warriors Orochi': 0.7451409857944225,\n",
       " 'Warriors of Fate': 0.7429973583274536,\n",
       " 'SoulCalibur V': 0.7383394234516375,\n",
       " \"Shogun's Blade\": 0.7332532332100025,\n",
       " 'Kengo: Legend of the 9': 0.7324164354038082,\n",
       " 'The Age of Heroes: Silkroad 2': 0.7257021384278578,\n",
       " 'Ninja Gaiden II': 0.7254868521384746}"
      ]
     },
     "execution_count": 48,
     "metadata": {},
     "output_type": "execute_result"
    }
   ],
   "source": [
    "recommend_content('Samurai Shodown II', matrix=game_desc_vectors)"
   ]
  },
  {
   "cell_type": "code",
   "execution_count": 200,
   "metadata": {},
   "outputs": [
    {
     "name": "stderr",
     "output_type": "stream",
     "text": [
      "  0%|          | 111/85964 [00:35<7:33:42,  3.15it/s]\n"
     ]
    },
    {
     "ename": "KeyboardInterrupt",
     "evalue": "",
     "output_type": "error",
     "traceback": [
      "\u001b[0;31m---------------------------------------------------------------------------\u001b[0m",
      "\u001b[0;31mKeyboardInterrupt\u001b[0m                         Traceback (most recent call last)",
      "\u001b[0;32m/tmp/ipykernel_16864/1752940369.py\u001b[0m in \u001b[0;36m<module>\u001b[0;34m\u001b[0m\n\u001b[1;32m      2\u001b[0m \u001b[0msimilarity_matrix\u001b[0m \u001b[0;34m=\u001b[0m \u001b[0;34m[\u001b[0m\u001b[0;34m]\u001b[0m\u001b[0;34m\u001b[0m\u001b[0;34m\u001b[0m\u001b[0m\n\u001b[1;32m      3\u001b[0m \u001b[0;32mfor\u001b[0m \u001b[0mvector\u001b[0m \u001b[0;32min\u001b[0m \u001b[0mtqdm\u001b[0m\u001b[0;34m(\u001b[0m\u001b[0mmatrix\u001b[0m\u001b[0;34m)\u001b[0m\u001b[0;34m:\u001b[0m\u001b[0;34m\u001b[0m\u001b[0;34m\u001b[0m\u001b[0m\n\u001b[0;32m----> 4\u001b[0;31m     \u001b[0msimilarity_matrix\u001b[0m\u001b[0;34m.\u001b[0m\u001b[0mappend\u001b[0m\u001b[0;34m(\u001b[0m\u001b[0mcosine_similarity\u001b[0m\u001b[0;34m(\u001b[0m\u001b[0;34m[\u001b[0m\u001b[0mvector\u001b[0m\u001b[0;34m]\u001b[0m\u001b[0;34m,\u001b[0m \u001b[0mmatrix\u001b[0m\u001b[0;34m)\u001b[0m\u001b[0;34m[\u001b[0m\u001b[0;36m0\u001b[0m\u001b[0;34m]\u001b[0m\u001b[0;34m)\u001b[0m\u001b[0;34m\u001b[0m\u001b[0;34m\u001b[0m\u001b[0m\n\u001b[0m",
      "\u001b[0;32m~/anaconda3/lib/python3.9/site-packages/sklearn/metrics/pairwise.py\u001b[0m in \u001b[0;36mcosine_similarity\u001b[0;34m(X, Y, dense_output)\u001b[0m\n\u001b[1;32m   1355\u001b[0m         \u001b[0mY_normalized\u001b[0m \u001b[0;34m=\u001b[0m \u001b[0mX_normalized\u001b[0m\u001b[0;34m\u001b[0m\u001b[0;34m\u001b[0m\u001b[0m\n\u001b[1;32m   1356\u001b[0m     \u001b[0;32melse\u001b[0m\u001b[0;34m:\u001b[0m\u001b[0;34m\u001b[0m\u001b[0;34m\u001b[0m\u001b[0m\n\u001b[0;32m-> 1357\u001b[0;31m         \u001b[0mY_normalized\u001b[0m \u001b[0;34m=\u001b[0m \u001b[0mnormalize\u001b[0m\u001b[0;34m(\u001b[0m\u001b[0mY\u001b[0m\u001b[0;34m,\u001b[0m \u001b[0mcopy\u001b[0m\u001b[0;34m=\u001b[0m\u001b[0;32mTrue\u001b[0m\u001b[0;34m)\u001b[0m\u001b[0;34m\u001b[0m\u001b[0;34m\u001b[0m\u001b[0m\n\u001b[0m\u001b[1;32m   1358\u001b[0m \u001b[0;34m\u001b[0m\u001b[0m\n\u001b[1;32m   1359\u001b[0m     \u001b[0mK\u001b[0m \u001b[0;34m=\u001b[0m \u001b[0msafe_sparse_dot\u001b[0m\u001b[0;34m(\u001b[0m\u001b[0mX_normalized\u001b[0m\u001b[0;34m,\u001b[0m \u001b[0mY_normalized\u001b[0m\u001b[0;34m.\u001b[0m\u001b[0mT\u001b[0m\u001b[0;34m,\u001b[0m \u001b[0mdense_output\u001b[0m\u001b[0;34m=\u001b[0m\u001b[0mdense_output\u001b[0m\u001b[0;34m)\u001b[0m\u001b[0;34m\u001b[0m\u001b[0;34m\u001b[0m\u001b[0m\n",
      "\u001b[0;32m~/anaconda3/lib/python3.9/site-packages/sklearn/preprocessing/_data.py\u001b[0m in \u001b[0;36mnormalize\u001b[0;34m(X, norm, axis, copy, return_norm)\u001b[0m\n\u001b[1;32m   1784\u001b[0m         \u001b[0;32mraise\u001b[0m \u001b[0mValueError\u001b[0m\u001b[0;34m(\u001b[0m\u001b[0;34m\"'%d' is not a supported axis\"\u001b[0m \u001b[0;34m%\u001b[0m \u001b[0maxis\u001b[0m\u001b[0;34m)\u001b[0m\u001b[0;34m\u001b[0m\u001b[0;34m\u001b[0m\u001b[0m\n\u001b[1;32m   1785\u001b[0m \u001b[0;34m\u001b[0m\u001b[0m\n\u001b[0;32m-> 1786\u001b[0;31m     X = check_array(\n\u001b[0m\u001b[1;32m   1787\u001b[0m         \u001b[0mX\u001b[0m\u001b[0;34m,\u001b[0m\u001b[0;34m\u001b[0m\u001b[0;34m\u001b[0m\u001b[0m\n\u001b[1;32m   1788\u001b[0m         \u001b[0maccept_sparse\u001b[0m\u001b[0;34m=\u001b[0m\u001b[0msparse_format\u001b[0m\u001b[0;34m,\u001b[0m\u001b[0;34m\u001b[0m\u001b[0;34m\u001b[0m\u001b[0m\n",
      "\u001b[0;32m~/anaconda3/lib/python3.9/site-packages/sklearn/utils/validation.py\u001b[0m in \u001b[0;36mcheck_array\u001b[0;34m(array, accept_sparse, accept_large_sparse, dtype, order, copy, force_all_finite, ensure_2d, allow_nd, ensure_min_samples, ensure_min_features, estimator, input_name)\u001b[0m\n\u001b[1;32m    923\u001b[0m \u001b[0;34m\u001b[0m\u001b[0m\n\u001b[1;32m    924\u001b[0m     \u001b[0;32mif\u001b[0m \u001b[0mcopy\u001b[0m \u001b[0;32mand\u001b[0m \u001b[0mnp\u001b[0m\u001b[0;34m.\u001b[0m\u001b[0mmay_share_memory\u001b[0m\u001b[0;34m(\u001b[0m\u001b[0marray\u001b[0m\u001b[0;34m,\u001b[0m \u001b[0marray_orig\u001b[0m\u001b[0;34m)\u001b[0m\u001b[0;34m:\u001b[0m\u001b[0;34m\u001b[0m\u001b[0;34m\u001b[0m\u001b[0m\n\u001b[0;32m--> 925\u001b[0;31m         \u001b[0marray\u001b[0m \u001b[0;34m=\u001b[0m \u001b[0mnp\u001b[0m\u001b[0;34m.\u001b[0m\u001b[0marray\u001b[0m\u001b[0;34m(\u001b[0m\u001b[0marray\u001b[0m\u001b[0;34m,\u001b[0m \u001b[0mdtype\u001b[0m\u001b[0;34m=\u001b[0m\u001b[0mdtype\u001b[0m\u001b[0;34m,\u001b[0m \u001b[0morder\u001b[0m\u001b[0;34m=\u001b[0m\u001b[0morder\u001b[0m\u001b[0;34m)\u001b[0m\u001b[0;34m\u001b[0m\u001b[0;34m\u001b[0m\u001b[0m\n\u001b[0m\u001b[1;32m    926\u001b[0m \u001b[0;34m\u001b[0m\u001b[0m\n\u001b[1;32m    927\u001b[0m     \u001b[0;32mreturn\u001b[0m \u001b[0marray\u001b[0m\u001b[0;34m\u001b[0m\u001b[0;34m\u001b[0m\u001b[0m\n",
      "\u001b[0;31mKeyboardInterrupt\u001b[0m: "
     ]
    }
   ],
   "source": [
    "# do cosine_similarity one by one so i wont run out of memory, takes a long time\n",
    "similarity_matrix = []\n",
    "for vector in tqdm(matrix):\n",
    "    similarity_matrix.append(cosine_similarity([vector], matrix)[0])"
   ]
  }
 ],
 "metadata": {
  "kernelspec": {
   "display_name": "base",
   "language": "python",
   "name": "python3"
  },
  "language_info": {
   "codemirror_mode": {
    "name": "ipython",
    "version": 3
   },
   "file_extension": ".py",
   "mimetype": "text/x-python",
   "name": "python",
   "nbconvert_exporter": "python",
   "pygments_lexer": "ipython3",
   "version": "3.9.7"
  },
  "orig_nbformat": 4
 },
 "nbformat": 4,
 "nbformat_minor": 2
}
